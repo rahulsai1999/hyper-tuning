{
 "cells": [
  {
   "cell_type": "markdown",
   "metadata": {},
   "source": [
    "## Preprocessing"
   ]
  },
  {
   "cell_type": "code",
   "execution_count": 1,
   "metadata": {},
   "outputs": [
    {
     "name": "stdout",
     "output_type": "stream",
     "text": [
      "GPU 0: NVIDIA GeForce RTX 3070 Laptop GPU (UUID: GPU-54856215-75bb-1551-b47a-9e3ba83e1e40)\n"
     ]
    }
   ],
   "source": [
    "!nvidia-smi -L"
   ]
  },
  {
   "cell_type": "code",
   "execution_count": 2,
   "metadata": {
    "colab": {},
    "colab_type": "code",
    "id": "zyjjGrVcEByn"
   },
   "outputs": [],
   "source": [
    "import pandas as pd\n",
    "data = pd.read_csv('data.csv')"
   ]
  },
  {
   "cell_type": "code",
   "execution_count": 3,
   "metadata": {
    "colab": {},
    "colab_type": "code",
    "id": "KUDKjgy1ESw8"
   },
   "outputs": [],
   "source": [
    "X = data.iloc[:, 1:-1]\n",
    "Y = data.iloc[:, 0]\n"
   ]
  },
  {
   "cell_type": "code",
   "execution_count": 4,
   "metadata": {
    "colab": {},
    "colab_type": "code",
    "id": "AvBCQNjFFVh9"
   },
   "outputs": [],
   "source": [
    "X = pd.get_dummies(X, columns=['Accident_Type_Code'])\n"
   ]
  },
  {
   "cell_type": "code",
   "execution_count": 5,
   "metadata": {
    "colab": {},
    "colab_type": "code",
    "id": "8HKREyVZ41ZH"
   },
   "outputs": [],
   "source": [
    "from sklearn.preprocessing import StandardScaler\n",
    "sc = StandardScaler()\n",
    "X = sc.fit_transform(X)\n"
   ]
  },
  {
   "cell_type": "code",
   "execution_count": 6,
   "metadata": {
    "colab": {},
    "colab_type": "code",
    "id": "IMjWV6zHaDaf"
   },
   "outputs": [],
   "source": [
    "from sklearn.model_selection import train_test_split\n",
    "\n",
    "X_train, X_test, Y_train, Y_test = train_test_split(\n",
    "    X, Y, test_size=0.25, random_state=0, shuffle=True)\n",
    "\n",
    "X_test, X_val, Y_test, Y_val = train_test_split(\n",
    "    X_test, Y_test, test_size=0.3, random_state=0, shuffle=True)\n"
   ]
  },
  {
   "cell_type": "code",
   "execution_count": 7,
   "metadata": {},
   "outputs": [
    {
     "name": "stdout",
     "output_type": "stream",
     "text": [
      "['Highly_Fatal_And_Damaging' 'Minor_Damage_And_Injuries'\n",
      " 'Significant_Damage_And_Fatalities'\n",
      " 'Significant_Damage_And_Serious_Injuries']\n"
     ]
    }
   ],
   "source": [
    "from sklearn.preprocessing import LabelEncoder\n",
    "le = LabelEncoder()\n",
    "le.fit(Y_train)\n",
    "print(le.classes_)\n",
    "Y_train = le.transform(Y_train)\n",
    "Y_test = le.transform(Y_test)\n",
    "Y_val = le.transform(Y_val)\n"
   ]
  },
  {
   "cell_type": "markdown",
   "metadata": {
    "colab_type": "text",
    "id": "it2mz_0q1hZD"
   },
   "source": [
    "## Neural Network\n"
   ]
  },
  {
   "cell_type": "markdown",
   "metadata": {
    "colab_type": "text",
    "id": "L4QCQ4nVry-B"
   },
   "source": [
    "### Baseline Model and function\n"
   ]
  },
  {
   "cell_type": "code",
   "execution_count": 8,
   "metadata": {
    "colab": {},
    "colab_type": "code",
    "id": "u0iNBNZa1kul"
   },
   "outputs": [],
   "source": [
    "from tensorflow import keras\n",
    "\n",
    "import warnings\n",
    "warnings.filterwarnings(\"ignore\")\n"
   ]
  },
  {
   "cell_type": "code",
   "execution_count": 9,
   "metadata": {},
   "outputs": [],
   "source": [
    "def build_model(hp):\n",
    "    feature_dim = X_train.shape[1]\n",
    "\n",
    "    # Defining the choice of hyperparameters\n",
    "    kernel_init = hp.Choice(\n",
    "        'kernel_init', ['uniform', 'lecun_uniform', 'normal', 'zero',\n",
    "                        'glorot_normal', 'glorot_uniform', 'he_normal', 'he_uniform'])\n",
    "\n",
    "    activation = hp.Choice('activation', ['softmax', 'softplus', 'softsign',\n",
    "                                          'relu', 'tanh', 'sigmoid', 'hard_sigmoid', 'linear'])\n",
    "\n",
    "    optimizer = hp.Choice('optimizer', ['SGD', 'RMSprop', 'Adagrad',\n",
    "                                        'Adadelta', 'Adam', 'Adamax', 'Nadam'])\n",
    "\n",
    "    hidden_layers = hp.Choice(\n",
    "        'hidden_layers', [1, 2, 4, 8, 10, 12, 14, 16, 18, 20])\n",
    "\n",
    "    dropout = hp.Boolean('dropout')\n",
    "\n",
    "    neurons_num = hp.Choice('neurons_num', [1, 2, 4, 8, 16, 32, 64, 128, 256])\n",
    "\n",
    "    # Model Definition\n",
    "    model = keras.Sequential()\n",
    "\n",
    "    model.add(keras.layers.Dense(feature_dim, input_dim=feature_dim,\n",
    "              kernel_initializer=kernel_init, activation=activation))\n",
    "\n",
    "    for _ in range(0, hidden_layers-1):\n",
    "        model.add(keras.layers.Dense(\n",
    "            neurons_num, kernel_initializer=kernel_init, activation=activation))\n",
    "\n",
    "    if dropout:\n",
    "        model.add(keras.layers.Dropout(0.2))\n",
    "\n",
    "    model.add(keras.layers.Dense(\n",
    "        4, kernel_initializer='normal', activation='softmax'))\n",
    "    model.compile(optimizer=optimizer,\n",
    "                  loss='sparse_categorical_crossentropy', metrics=[\"accuracy\"])\n",
    "\n",
    "    return model\n"
   ]
  },
  {
   "cell_type": "code",
   "execution_count": 10,
   "metadata": {},
   "outputs": [],
   "source": [
    "# Function to create the model keras model after finding the hyperparameters\n",
    "def create_model(kernel_init, activation, optimizer, hidden_layers, dropout, neurons_num):\n",
    "    feature_dim = X_train.shape[1]\n",
    "    model = keras.Sequential()\n",
    "\n",
    "    model.add(keras.layers.Dense(feature_dim, input_dim=feature_dim,\n",
    "              kernel_initializer=kernel_init, activation=activation))\n",
    "\n",
    "    for _ in range(0, hidden_layers-1):\n",
    "        model.add(keras.layers.Dense(\n",
    "            neurons_num, kernel_initializer=kernel_init, activation=activation))\n",
    "\n",
    "    if dropout:\n",
    "        model.add(keras.layers.Dropout(0.2))\n",
    "\n",
    "    model.add(keras.layers.Dense(\n",
    "        4, kernel_initializer='normal', activation='softmax'))\n",
    "    model.compile(optimizer=optimizer,\n",
    "                  loss='sparse_categorical_crossentropy', metrics=[\"accuracy\"])\n",
    "\n",
    "    return model\n"
   ]
  },
  {
   "cell_type": "code",
   "execution_count": 11,
   "metadata": {},
   "outputs": [],
   "source": [
    "import keras_tuner as kt\n",
    "\n",
    "tuner = kt.Hyperband(\n",
    "    hypermodel=build_model,\n",
    "    objective=\"val_accuracy\",\n",
    "    project_name=\"hyper_tuning\",\n",
    "    directory=\"my_dir\",\n",
    ")\n"
   ]
  },
  {
   "cell_type": "code",
   "execution_count": 12,
   "metadata": {},
   "outputs": [
    {
     "name": "stdout",
     "output_type": "stream",
     "text": [
      "Search space summary\n",
      "Default search space size: 6\n",
      "kernel_init (Choice)\n",
      "{'default': 'uniform', 'conditions': [], 'values': ['uniform', 'lecun_uniform', 'normal', 'zero', 'glorot_normal', 'glorot_uniform', 'he_normal', 'he_uniform'], 'ordered': False}\n",
      "activation (Choice)\n",
      "{'default': 'softmax', 'conditions': [], 'values': ['softmax', 'softplus', 'softsign', 'relu', 'tanh', 'sigmoid', 'hard_sigmoid', 'linear'], 'ordered': False}\n",
      "optimizer (Choice)\n",
      "{'default': 'SGD', 'conditions': [], 'values': ['SGD', 'RMSprop', 'Adagrad', 'Adadelta', 'Adam', 'Adamax', 'Nadam'], 'ordered': False}\n",
      "hidden_layers (Choice)\n",
      "{'default': 1, 'conditions': [], 'values': [1, 2, 4, 8, 10, 12, 14, 16, 18, 20], 'ordered': True}\n",
      "dropout (Boolean)\n",
      "{'default': False, 'conditions': []}\n",
      "neurons_num (Choice)\n",
      "{'default': 1, 'conditions': [], 'values': [1, 2, 4, 8, 16, 32, 64, 128, 256], 'ordered': True}\n"
     ]
    }
   ],
   "source": [
    "tuner.search_space_summary()"
   ]
  },
  {
   "cell_type": "code",
   "execution_count": 13,
   "metadata": {},
   "outputs": [],
   "source": [
    "# uncomment before proceeding\n",
    "# tuner.search(X_train, Y_train, epochs=10, validation_data=(X_val, Y_val))"
   ]
  },
  {
   "cell_type": "code",
   "execution_count": 15,
   "metadata": {},
   "outputs": [],
   "source": [
    "# Get the top 2 models.\n",
    "# models = tuner.get_best_models(num_models=2)\n",
    "# best_model = models[0]\n",
    "\n",
    "# Build the model.\n",
    "# best_model.build()\n",
    "# best_model.summary()"
   ]
  },
  {
   "cell_type": "markdown",
   "metadata": {
    "colab_type": "text",
    "id": "lRPkdfhGchal"
   },
   "source": [
    "## Predicting and Writing to CSV\n"
   ]
  },
  {
   "cell_type": "markdown",
   "metadata": {
    "colab_type": "text",
    "id": "Cla9UxCAisn-"
   },
   "source": [
    "### Using Best Model\n"
   ]
  },
  {
   "cell_type": "code",
   "execution_count": 16,
   "metadata": {
    "colab": {},
    "colab_type": "code",
    "id": "V4luUYUpxju3"
   },
   "outputs": [],
   "source": [
    "model = create_model(\"normal\", \"softplus\", \"Nadam\", 4, False, 64)\n"
   ]
  },
  {
   "cell_type": "code",
   "execution_count": 17,
   "metadata": {
    "colab": {
     "base_uri": "https://localhost:8080/",
     "height": 1000
    },
    "colab_type": "code",
    "id": "HODuAuGx2QVX",
    "outputId": "82e5eda3-52c0-441c-abd2-435531f300f9"
   },
   "outputs": [],
   "source": [
    "from time import time\n",
    "\n",
    "tensorboard = keras.callbacks.TensorBoard(log_dir=\"logs/{}\".format(time()))\n",
    "\n",
    "earlystopping = keras.callbacks.EarlyStopping(\n",
    "    monitor=\"val_accuracy\",\n",
    "    min_delta=0,\n",
    "    patience=3,\n",
    "    verbose=1,\n",
    "    mode=\"auto\",\n",
    "    baseline=None,\n",
    "    restore_best_weights=False,\n",
    ")\n"
   ]
  },
  {
   "cell_type": "code",
   "execution_count": 19,
   "metadata": {},
   "outputs": [
    {
     "name": "stdout",
     "output_type": "stream",
     "text": [
      "Epoch 1/100\n",
      "107/107 - 2s - loss: 1.3216 - accuracy: 0.3967 - val_loss: 1.2180 - val_accuracy: 0.5093 - 2s/epoch - 16ms/step\n",
      "Epoch 2/100\n",
      "107/107 - 2s - loss: 1.1926 - accuracy: 0.5170 - val_loss: 1.1817 - val_accuracy: 0.4978 - 2s/epoch - 16ms/step\n",
      "Epoch 3/100\n",
      "107/107 - 2s - loss: 1.0494 - accuracy: 0.5581 - val_loss: 1.0090 - val_accuracy: 0.6133 - 2s/epoch - 15ms/step\n",
      "Epoch 4/100\n",
      "107/107 - 2s - loss: 0.8768 - accuracy: 0.6389 - val_loss: 0.7915 - val_accuracy: 0.6933 - 2s/epoch - 17ms/step\n",
      "Epoch 5/100\n",
      "107/107 - 2s - loss: 0.6901 - accuracy: 0.7216 - val_loss: 0.5962 - val_accuracy: 0.8000 - 2s/epoch - 16ms/step\n",
      "Epoch 6/100\n",
      "107/107 - 2s - loss: 0.5413 - accuracy: 0.7896 - val_loss: 0.5076 - val_accuracy: 0.8000 - 2s/epoch - 15ms/step\n",
      "Epoch 7/100\n",
      "107/107 - 2s - loss: 0.4766 - accuracy: 0.8304 - val_loss: 0.4361 - val_accuracy: 0.8311 - 2s/epoch - 15ms/step\n",
      "Epoch 8/100\n",
      "107/107 - 2s - loss: 0.4224 - accuracy: 0.8380 - val_loss: 0.4202 - val_accuracy: 0.8444 - 2s/epoch - 15ms/step\n",
      "Epoch 9/100\n",
      "107/107 - 2s - loss: 0.3947 - accuracy: 0.8467 - val_loss: 0.5013 - val_accuracy: 0.8133 - 2s/epoch - 15ms/step\n",
      "Epoch 10/100\n",
      "107/107 - 2s - loss: 0.3768 - accuracy: 0.8544 - val_loss: 0.3592 - val_accuracy: 0.8551 - 2s/epoch - 15ms/step\n",
      "Epoch 11/100\n",
      "107/107 - 2s - loss: 0.3501 - accuracy: 0.8711 - val_loss: 0.3280 - val_accuracy: 0.8729 - 2s/epoch - 15ms/step\n",
      "Epoch 12/100\n",
      "107/107 - 2s - loss: 0.3265 - accuracy: 0.8841 - val_loss: 0.3246 - val_accuracy: 0.8844 - 2s/epoch - 15ms/step\n",
      "Epoch 13/100\n",
      "107/107 - 2s - loss: 0.3103 - accuracy: 0.8930 - val_loss: 0.3038 - val_accuracy: 0.8889 - 2s/epoch - 14ms/step\n",
      "Epoch 14/100\n",
      "107/107 - 2s - loss: 0.2968 - accuracy: 0.8965 - val_loss: 0.2847 - val_accuracy: 0.8942 - 2s/epoch - 15ms/step\n",
      "Epoch 15/100\n",
      "107/107 - 2s - loss: 0.2815 - accuracy: 0.9040 - val_loss: 0.2677 - val_accuracy: 0.8942 - 2s/epoch - 14ms/step\n",
      "Epoch 16/100\n",
      "107/107 - 2s - loss: 0.2668 - accuracy: 0.9125 - val_loss: 0.3414 - val_accuracy: 0.8747 - 2s/epoch - 15ms/step\n",
      "Epoch 17/100\n",
      "107/107 - 2s - loss: 0.2680 - accuracy: 0.9078 - val_loss: 0.2943 - val_accuracy: 0.8987 - 2s/epoch - 16ms/step\n",
      "Epoch 18/100\n",
      "107/107 - 2s - loss: 0.2627 - accuracy: 0.9096 - val_loss: 0.2518 - val_accuracy: 0.9147 - 2s/epoch - 14ms/step\n",
      "Epoch 19/100\n",
      "107/107 - 2s - loss: 0.2569 - accuracy: 0.9173 - val_loss: 0.2424 - val_accuracy: 0.9164 - 2s/epoch - 15ms/step\n",
      "Epoch 20/100\n",
      "107/107 - 2s - loss: 0.2491 - accuracy: 0.9172 - val_loss: 0.2560 - val_accuracy: 0.9067 - 2s/epoch - 15ms/step\n",
      "Epoch 21/100\n",
      "107/107 - 2s - loss: 0.2463 - accuracy: 0.9219 - val_loss: 0.2476 - val_accuracy: 0.9013 - 2s/epoch - 15ms/step\n",
      "Epoch 22/100\n",
      "107/107 - 2s - loss: 0.2425 - accuracy: 0.9213 - val_loss: 0.2642 - val_accuracy: 0.9058 - 2s/epoch - 15ms/step\n",
      "Epoch 22: early stopping\n"
     ]
    },
    {
     "data": {
      "text/plain": [
       "<keras.callbacks.History at 0x20e75a4ac70>"
      ]
     },
     "execution_count": 19,
     "metadata": {},
     "output_type": "execute_result"
    }
   ],
   "source": [
    "model.fit(X_train, Y_train, epochs=100, batch_size=60, verbose=2,\n",
    "          callbacks=[tensorboard, earlystopping], validation_split=0.15)\n"
   ]
  },
  {
   "cell_type": "code",
   "execution_count": 20,
   "metadata": {
    "colab": {
     "base_uri": "https://localhost:8080/",
     "height": 51
    },
    "colab_type": "code",
    "id": "OxnFZKtQ6InH",
    "outputId": "dd60d730-274d-403a-efac-e221cf7e2911"
   },
   "outputs": [
    {
     "name": "stdout",
     "output_type": "stream",
     "text": [
      "55/55 - 0s - loss: 0.2421 - accuracy: 0.9251 - 206ms/epoch - 4ms/step\n",
      "\n",
      "Test accuracy: 92.51%\n"
     ]
    }
   ],
   "source": [
    "scores = model.evaluate(X_test, Y_test, verbose=2)\n",
    "print(\"\\nTest %s: %.2f%%\" % (model.metrics_names[1], scores[1]*100))\n"
   ]
  },
  {
   "cell_type": "code",
   "execution_count": 21,
   "metadata": {},
   "outputs": [],
   "source": [
    "model.save('model.h5')\n"
   ]
  },
  {
   "cell_type": "markdown",
   "metadata": {
    "colab_type": "text",
    "id": "vyGBHZOtg6md"
   },
   "source": [
    "### Writing to CSV\n"
   ]
  },
  {
   "cell_type": "code",
   "execution_count": null,
   "metadata": {
    "colab": {},
    "colab_type": "code",
    "id": "hZjRa7_icmM-"
   },
   "outputs": [],
   "source": [
    "# X_validate = pd.read_csv('test.csv')\n",
    "# acc_id = X_validate.iloc[:, -1]\n",
    "# X_validate = X_validate.iloc[:, :-1]\n"
   ]
  },
  {
   "cell_type": "code",
   "execution_count": null,
   "metadata": {
    "colab": {},
    "colab_type": "code",
    "id": "qpJy5rSycrWt"
   },
   "outputs": [],
   "source": [
    "# X_validate = pd.get_dummies(X_validate, columns=['Accident_Type_Code'])\n",
    "# X_validate = sc.fit_transform(X_validate)\n"
   ]
  },
  {
   "cell_type": "code",
   "execution_count": null,
   "metadata": {
    "colab": {},
    "colab_type": "code",
    "id": "rrTbldZn6VlV"
   },
   "outputs": [],
   "source": [
    "# Y_validate = model.predict_classes(X_validate)\n",
    "# Y_validate = le.inverse_transform(Y_validate)\n",
    "# Y_validate\n"
   ]
  },
  {
   "cell_type": "code",
   "execution_count": null,
   "metadata": {
    "colab": {
     "base_uri": "https://localhost:8080/",
     "height": 34
    },
    "colab_type": "code",
    "id": "oGyrif1Ec5Tz",
    "outputId": "b92c76b2-d9de-4b38-8c03-77a537c55215"
   },
   "outputs": [],
   "source": [
    "# Y_final = pd.concat([acc_id, pd.Series(Y_validate)], axis=1)\n",
    "# Y_final.reset_index()\n",
    "# Y_final.to_csv('final.csv')\n"
   ]
  }
 ],
 "metadata": {
  "accelerator": "TPU",
  "colab": {
   "collapsed_sections": [
    "2XSftOQcicVg",
    "-S1RLnkImpej",
    "gvR0A-zHqVCE",
    "dHA6se_3r7Of",
    "lRPkdfhGchal",
    "Cla9UxCAisn-"
   ],
   "name": "he_challenge.ipynb",
   "provenance": [],
   "toc_visible": true
  },
  "kernelspec": {
   "display_name": "Python 3 (ipykernel)",
   "language": "python",
   "name": "python3"
  },
  "language_info": {
   "codemirror_mode": {
    "name": "ipython",
    "version": 3
   },
   "file_extension": ".py",
   "mimetype": "text/x-python",
   "name": "python",
   "nbconvert_exporter": "python",
   "pygments_lexer": "ipython3",
   "version": "3.9.7"
  }
 },
 "nbformat": 4,
 "nbformat_minor": 4
}
