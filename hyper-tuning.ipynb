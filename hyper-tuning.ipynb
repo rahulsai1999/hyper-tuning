{
  "nbformat": 4,
  "nbformat_minor": 0,
  "metadata": {
    "colab": {
      "name": "he_challenge.ipynb",
      "provenance": [],
      "collapsed_sections": [
        "2XSftOQcicVg",
        "-S1RLnkImpej",
        "gvR0A-zHqVCE",
        "dHA6se_3r7Of",
        "lRPkdfhGchal",
        "Cla9UxCAisn-"
      ],
      "toc_visible": true
    },
    "kernelspec": {
      "name": "python3",
      "display_name": "Python 3"
    },
    "accelerator": "TPU"
  },
  "cells": [
    {
      "cell_type": "code",
      "metadata": {
        "id": "zyjjGrVcEByn",
        "colab_type": "code",
        "colab": {}
      },
      "source": [
        "import pandas as pd\n",
        "import numpy as np\n",
        "data=pd.read_csv('train.csv')"
      ],
      "execution_count": 0,
      "outputs": []
    },
    {
      "cell_type": "code",
      "metadata": {
        "id": "KUDKjgy1ESw8",
        "colab_type": "code",
        "colab": {}
      },
      "source": [
        "X=data.iloc[:,1:-1]\n",
        "Y=data.iloc[:,0]"
      ],
      "execution_count": 0,
      "outputs": []
    },
    {
      "cell_type": "code",
      "metadata": {
        "id": "AvBCQNjFFVh9",
        "colab_type": "code",
        "colab": {}
      },
      "source": [
        "X=pd.get_dummies(X,columns=['Accident_Type_Code'])"
      ],
      "execution_count": 0,
      "outputs": []
    },
    {
      "cell_type": "code",
      "metadata": {
        "id": "8HKREyVZ41ZH",
        "colab_type": "code",
        "colab": {}
      },
      "source": [
        "from sklearn.preprocessing import StandardScaler\n",
        "sc=StandardScaler()\n",
        "X=sc.fit_transform(X)"
      ],
      "execution_count": 0,
      "outputs": []
    },
    {
      "cell_type": "code",
      "metadata": {
        "id": "IMjWV6zHaDaf",
        "colab_type": "code",
        "colab": {}
      },
      "source": [
        "from sklearn.model_selection import train_test_split\n",
        "X_train,X_test,Y_train,Y_test=train_test_split(X,Y,test_size=0.15,random_state=0)"
      ],
      "execution_count": 0,
      "outputs": []
    },
    {
      "cell_type": "markdown",
      "metadata": {
        "id": "it2mz_0q1hZD",
        "colab_type": "text"
      },
      "source": [
        "## Neural Networks"
      ]
    },
    {
      "cell_type": "markdown",
      "metadata": {
        "id": "L4QCQ4nVry-B",
        "colab_type": "text"
      },
      "source": [
        "### Baseline Model and function"
      ]
    },
    {
      "cell_type": "code",
      "metadata": {
        "id": "u0iNBNZa1kul",
        "colab_type": "code",
        "colab": {}
      },
      "source": [
        "import tensorflow as tf\n",
        "from keras import backend as K\n",
        "from keras.models import Sequential\n",
        "from keras.layers.core import Dense,Activation\n",
        "from keras.utils import np_utils,to_categorical\n",
        "from keras.wrappers.scikit_learn import KerasClassifier\n",
        "from sklearn.model_selection import GridSearchCV\n",
        "import warnings\n",
        "warnings.filterwarnings(\"ignore\")"
      ],
      "execution_count": 0,
      "outputs": []
    },
    {
      "cell_type": "code",
      "metadata": {
        "id": "Yej4m2MA1xj3",
        "colab_type": "code",
        "colab": {}
      },
      "source": [
        "sess=tf.Session()\n",
        "K.set_session(sess)\n",
        "hidden_layers=8\n",
        "neurons_num=128\n",
        "feature_dim=X_train.shape[1]"
      ],
      "execution_count": 0,
      "outputs": []
    },
    {
      "cell_type": "code",
      "metadata": {
        "id": "D7hjDY_V15dZ",
        "colab_type": "code",
        "colab": {}
      },
      "source": [
        "def create_model(optimizer='Adamax',activation='relu',kernel_initializer='normal',neurons_num=128,hidden_layers=8):\n",
        "  model=Sequential()\n",
        "  model.add(Dense(feature_dim,input_dim=feature_dim,kernel_initializer=kernel_initializer,activation=activation))\n",
        "  for _ in range(0,hidden_layers-1):\n",
        "    model.add(Dense(neurons_num,kernel_initializer=kernel_initializer,activation=activation))\n",
        "    model.add(Dense(4,kernel_initializer='normal',activation='softmax'))\n",
        "    model.compile(optimizer=optimizer,loss='sparse_categorical_crossentropy',metrics=[\"accuracy\"])\n",
        "    return model"
      ],
      "execution_count": 0,
      "outputs": []
    },
    {
      "cell_type": "code",
      "metadata": {
        "id": "6MlLms7f2tZ2",
        "colab_type": "code",
        "outputId": "c4b07b38-af37-4d89-8582-c74985ac9430",
        "colab": {
          "base_uri": "https://localhost:8080/",
          "height": 68
        }
      },
      "source": [
        "from sklearn.preprocessing import LabelEncoder\n",
        "le=LabelEncoder()\n",
        "le.fit(Y_train)\n",
        "print(le.classes_)\n",
        "Y_train=le.transform(Y_train)\n",
        "Y_test=le.transform(Y_test)"
      ],
      "execution_count": 9,
      "outputs": [
        {
          "output_type": "stream",
          "text": [
            "['Highly_Fatal_And_Damaging' 'Minor_Damage_And_Injuries'\n",
            " 'Significant_Damage_And_Fatalities'\n",
            " 'Significant_Damage_And_Serious_Injuries']\n"
          ],
          "name": "stdout"
        }
      ]
    },
    {
      "cell_type": "markdown",
      "metadata": {
        "id": "2XSftOQcicVg",
        "colab_type": "text"
      },
      "source": [
        "### Tuning Batch and Epochs"
      ]
    },
    {
      "cell_type": "code",
      "metadata": {
        "id": "lFWV6byFh4An",
        "colab_type": "code",
        "colab": {
          "base_uri": "https://localhost:8080/",
          "height": 462
        },
        "outputId": "0033ae6a-ef36-4d7f-add1-8e3ad61de0ef"
      },
      "source": [
        "model=KerasClassifier(build_fn=create_model,verbose=0)\n",
        "batch_size=[10,20,40,60,100]\n",
        "epochs=[10,25,50,100]\n",
        "param_grid = dict(batch_size=batch_size, epochs=epochs)\n",
        "grid=GridSearchCV(estimator=model,param_grid=param_grid,n_jobs=-1,cv=3)\n",
        "grid_result = grid.fit(X_train, Y_train)"
      ],
      "execution_count": 10,
      "outputs": [
        {
          "output_type": "stream",
          "text": [
            "WARNING:tensorflow:From /usr/local/lib/python3.6/dist-packages/keras/backend/tensorflow_backend.py:66: The name tf.get_default_graph is deprecated. Please use tf.compat.v1.get_default_graph instead.\n",
            "\n",
            "WARNING:tensorflow:From /usr/local/lib/python3.6/dist-packages/keras/backend/tensorflow_backend.py:541: The name tf.placeholder is deprecated. Please use tf.compat.v1.placeholder instead.\n",
            "\n",
            "WARNING:tensorflow:From /usr/local/lib/python3.6/dist-packages/keras/backend/tensorflow_backend.py:4409: The name tf.random_normal is deprecated. Please use tf.random.normal instead.\n",
            "\n",
            "WARNING:tensorflow:From /usr/local/lib/python3.6/dist-packages/keras/optimizers.py:793: The name tf.train.Optimizer is deprecated. Please use tf.compat.v1.train.Optimizer instead.\n",
            "\n",
            "WARNING:tensorflow:From /usr/local/lib/python3.6/dist-packages/keras/backend/tensorflow_backend.py:3622: The name tf.log is deprecated. Please use tf.math.log instead.\n",
            "\n",
            "WARNING:tensorflow:From /usr/local/lib/python3.6/dist-packages/tensorflow_core/python/ops/math_grad.py:1424: where (from tensorflow.python.ops.array_ops) is deprecated and will be removed in a future version.\n",
            "Instructions for updating:\n",
            "Use tf.where in 2.0, which has the same broadcast rule as np.where\n",
            "WARNING:tensorflow:From /usr/local/lib/python3.6/dist-packages/keras/backend/tensorflow_backend.py:1033: The name tf.assign_add is deprecated. Please use tf.compat.v1.assign_add instead.\n",
            "\n",
            "WARNING:tensorflow:From /usr/local/lib/python3.6/dist-packages/keras/backend/tensorflow_backend.py:1020: The name tf.assign is deprecated. Please use tf.compat.v1.assign instead.\n",
            "\n",
            "WARNING:tensorflow:From /usr/local/lib/python3.6/dist-packages/keras/backend/tensorflow_backend.py:190: The name tf.get_default_session is deprecated. Please use tf.compat.v1.get_default_session instead.\n",
            "\n",
            "WARNING:tensorflow:From /usr/local/lib/python3.6/dist-packages/keras/backend/tensorflow_backend.py:207: The name tf.global_variables is deprecated. Please use tf.compat.v1.global_variables instead.\n",
            "\n",
            "WARNING:tensorflow:From /usr/local/lib/python3.6/dist-packages/keras/backend/tensorflow_backend.py:216: The name tf.is_variable_initialized is deprecated. Please use tf.compat.v1.is_variable_initialized instead.\n",
            "\n",
            "WARNING:tensorflow:From /usr/local/lib/python3.6/dist-packages/keras/backend/tensorflow_backend.py:223: The name tf.variables_initializer is deprecated. Please use tf.compat.v1.variables_initializer instead.\n",
            "\n"
          ],
          "name": "stdout"
        }
      ]
    },
    {
      "cell_type": "code",
      "metadata": {
        "id": "WRGK-eAVi7sK",
        "colab_type": "code",
        "colab": {
          "base_uri": "https://localhost:8080/",
          "height": 374
        },
        "outputId": "09409665-8d2b-4442-8be9-623e70f34318"
      },
      "source": [
        "print(\"Best: %f using %s\" % (grid_result.best_score_, grid_result.best_params_))\n",
        "means = grid_result.cv_results_['mean_test_score']\n",
        "stds = grid_result.cv_results_['std_test_score']\n",
        "params = grid_result.cv_results_['params']\n",
        "for mean, stdev, param in zip(means, stds, params):\n",
        "    print(\"%f (%f) with: %r\" % (mean, stdev, param))"
      ],
      "execution_count": 11,
      "outputs": [
        {
          "output_type": "stream",
          "text": [
            "Best: 0.937058 using {'batch_size': 60, 'epochs': 100}\n",
            "0.926470 (0.004497) with: {'batch_size': 10, 'epochs': 10}\n",
            "0.933294 (0.005680) with: {'batch_size': 10, 'epochs': 25}\n",
            "0.932000 (0.003156) with: {'batch_size': 10, 'epochs': 50}\n",
            "0.934353 (0.004251) with: {'batch_size': 10, 'epochs': 100}\n",
            "0.923882 (0.001023) with: {'batch_size': 20, 'epochs': 10}\n",
            "0.932352 (0.004669) with: {'batch_size': 20, 'epochs': 25}\n",
            "0.933294 (0.003970) with: {'batch_size': 20, 'epochs': 50}\n",
            "0.934941 (0.003613) with: {'batch_size': 20, 'epochs': 100}\n",
            "0.925882 (0.004448) with: {'batch_size': 40, 'epochs': 10}\n",
            "0.932117 (0.006205) with: {'batch_size': 40, 'epochs': 25}\n",
            "0.932587 (0.006250) with: {'batch_size': 40, 'epochs': 50}\n",
            "0.933411 (0.004058) with: {'batch_size': 40, 'epochs': 100}\n",
            "0.913763 (0.013846) with: {'batch_size': 60, 'epochs': 10}\n",
            "0.932118 (0.001693) with: {'batch_size': 60, 'epochs': 25}\n",
            "0.935646 (0.003848) with: {'batch_size': 60, 'epochs': 50}\n",
            "0.937058 (0.002853) with: {'batch_size': 60, 'epochs': 100}\n",
            "0.896351 (0.015587) with: {'batch_size': 100, 'epochs': 10}\n",
            "0.928706 (0.005563) with: {'batch_size': 100, 'epochs': 25}\n",
            "0.935999 (0.005845) with: {'batch_size': 100, 'epochs': 50}\n",
            "0.933647 (0.001521) with: {'batch_size': 100, 'epochs': 100}\n"
          ],
          "name": "stdout"
        }
      ]
    },
    {
      "cell_type": "markdown",
      "metadata": {
        "id": "-S1RLnkImpej",
        "colab_type": "text"
      },
      "source": [
        "### Tuning Optimizer"
      ]
    },
    {
      "cell_type": "code",
      "metadata": {
        "id": "satR4JbWm2W2",
        "colab_type": "code",
        "colab": {}
      },
      "source": [
        "model = KerasClassifier(build_fn=create_model, epochs=100, batch_size=60, verbose=0)\n",
        "optimizer = ['SGD', 'RMSprop', 'Adagrad', 'Adadelta', 'Adam', 'Adamax', 'Nadam']\n",
        "param_grid = dict(optimizer=optimizer)\n",
        "grid = GridSearchCV(estimator=model, param_grid=param_grid, n_jobs=-1, cv=3)\n",
        "grid_result = grid.fit(X_train, Y_train)"
      ],
      "execution_count": 0,
      "outputs": []
    },
    {
      "cell_type": "code",
      "metadata": {
        "id": "qW51BvKcm-qo",
        "colab_type": "code",
        "colab": {
          "base_uri": "https://localhost:8080/",
          "height": 153
        },
        "outputId": "c0039902-1a44-4bc7-e716-193d3987114f"
      },
      "source": [
        "print(\"Best: %f using %s\" % (grid_result.best_score_, grid_result.best_params_))\n",
        "means = grid_result.cv_results_['mean_test_score']\n",
        "stds = grid_result.cv_results_['std_test_score']\n",
        "params = grid_result.cv_results_['params']\n",
        "for mean, stdev, param in zip(means, stds, params):\n",
        "    print(\"%f (%f) with: %r\" % (mean, stdev, param))"
      ],
      "execution_count": 22,
      "outputs": [
        {
          "output_type": "stream",
          "text": [
            "Best: 0.937764 using {'optimizer': 'Adamax'}\n",
            "0.923764 (0.004168) with: {'optimizer': 'SGD'}\n",
            "0.936117 (0.003405) with: {'optimizer': 'RMSprop'}\n",
            "0.931647 (0.003635) with: {'optimizer': 'Adagrad'}\n",
            "0.935882 (0.003063) with: {'optimizer': 'Adadelta'}\n",
            "0.936470 (0.002755) with: {'optimizer': 'Adam'}\n",
            "0.937764 (0.001341) with: {'optimizer': 'Adamax'}\n",
            "0.934235 (0.003848) with: {'optimizer': 'Nadam'}\n"
          ],
          "name": "stdout"
        }
      ]
    },
    {
      "cell_type": "markdown",
      "metadata": {
        "id": "gvR0A-zHqVCE",
        "colab_type": "text"
      },
      "source": [
        "### Tuning Activation function"
      ]
    },
    {
      "cell_type": "code",
      "metadata": {
        "id": "AF8VDxY4qd1W",
        "colab_type": "code",
        "colab": {}
      },
      "source": [
        "model = KerasClassifier(build_fn=create_model, epochs=100, batch_size=60, verbose=0)\n",
        "activation = ['softmax', 'softplus', 'softsign', 'relu', 'tanh', 'sigmoid', 'hard_sigmoid', 'linear']\n",
        "param_grid = dict(activation=activation)\n",
        "grid = GridSearchCV(estimator=model, param_grid=param_grid, n_jobs=-1, cv=3)\n",
        "grid_result = grid.fit(X_train, Y_train)"
      ],
      "execution_count": 0,
      "outputs": []
    },
    {
      "cell_type": "code",
      "metadata": {
        "id": "Ijh12NaTqrGd",
        "colab_type": "code",
        "colab": {
          "base_uri": "https://localhost:8080/",
          "height": 170
        },
        "outputId": "b8e7a5f1-196a-49fa-b0b2-264b921848cf"
      },
      "source": [
        "print(\"Best: %f using %s\" % (grid_result.best_score_, grid_result.best_params_))\n",
        "means = grid_result.cv_results_['mean_test_score']\n",
        "stds = grid_result.cv_results_['std_test_score']\n",
        "params = grid_result.cv_results_['params']\n",
        "for mean, stdev, param in zip(means, stds, params):\n",
        "    print(\"%f (%f) with: %r\" % (mean, stdev, param))"
      ],
      "execution_count": 25,
      "outputs": [
        {
          "output_type": "stream",
          "text": [
            "Best: 0.934823 using {'activation': 'relu'}\n",
            "0.901999 (0.004611) with: {'activation': 'softmax'}\n",
            "0.917412 (0.002018) with: {'activation': 'softplus'}\n",
            "0.933647 (0.001319) with: {'activation': 'softsign'}\n",
            "0.934823 (0.004371) with: {'activation': 'relu'}\n",
            "0.928470 (0.007046) with: {'activation': 'tanh'}\n",
            "0.910471 (0.001750) with: {'activation': 'sigmoid'}\n",
            "0.877766 (0.017700) with: {'activation': 'hard_sigmoid'}\n",
            "0.617647 (0.002148) with: {'activation': 'linear'}\n"
          ],
          "name": "stdout"
        }
      ]
    },
    {
      "cell_type": "markdown",
      "metadata": {
        "id": "dHA6se_3r7Of",
        "colab_type": "text"
      },
      "source": [
        "### Tuning Kernel Initializer"
      ]
    },
    {
      "cell_type": "code",
      "metadata": {
        "id": "9BIXpk9UsEAk",
        "colab_type": "code",
        "colab": {}
      },
      "source": [
        "model = KerasClassifier(build_fn=create_model, epochs=100, batch_size=60, verbose=0)\n",
        "kernel_initializer = ['uniform', 'lecun_uniform', 'normal', 'zero', 'glorot_normal', 'glorot_uniform', 'he_normal', 'he_uniform']\n",
        "param_grid = dict(kernel_initializer=kernel_initializer)\n",
        "grid = GridSearchCV(estimator=model, param_grid=param_grid, n_jobs=-1, cv=3)\n",
        "grid_result = grid.fit(X_train, Y_train)"
      ],
      "execution_count": 0,
      "outputs": []
    },
    {
      "cell_type": "code",
      "metadata": {
        "id": "1IWFl6TXslwH",
        "colab_type": "code",
        "colab": {
          "base_uri": "https://localhost:8080/",
          "height": 170
        },
        "outputId": "a379fd36-f651-4353-f095-5467010cdae3"
      },
      "source": [
        "print(\"Best: %f using %s\" % (grid_result.best_score_, grid_result.best_params_))\n",
        "means = grid_result.cv_results_['mean_test_score']\n",
        "stds = grid_result.cv_results_['std_test_score']\n",
        "params = grid_result.cv_results_['params']\n",
        "for mean, stdev, param in zip(means, stds, params):\n",
        "    print(\"%f (%f) with: %r\" % (mean, stdev, param))"
      ],
      "execution_count": 28,
      "outputs": [
        {
          "output_type": "stream",
          "text": [
            "Best: 0.935529 using {'kernel_initializer': 'normal'}\n",
            "0.934235 (0.003007) with: {'kernel_initializer': 'uniform'}\n",
            "0.933412 (0.000603) with: {'kernel_initializer': 'lecun_uniform'}\n",
            "0.935529 (0.003770) with: {'kernel_initializer': 'normal'}\n",
            "0.305059 (0.001805) with: {'kernel_initializer': 'zero'}\n",
            "0.934470 (0.004602) with: {'kernel_initializer': 'glorot_normal'}\n",
            "0.935176 (0.004584) with: {'kernel_initializer': 'glorot_uniform'}\n",
            "0.927176 (0.002802) with: {'kernel_initializer': 'he_normal'}\n",
            "0.927999 (0.006895) with: {'kernel_initializer': 'he_uniform'}\n"
          ],
          "name": "stdout"
        }
      ]
    },
    {
      "cell_type": "markdown",
      "metadata": {
        "id": "kD4nM3QCuGim",
        "colab_type": "text"
      },
      "source": [
        "### Tuning Number of Neurons"
      ]
    },
    {
      "cell_type": "code",
      "metadata": {
        "id": "zXE2ZuRKuMj6",
        "colab_type": "code",
        "colab": {}
      },
      "source": [
        "model = KerasClassifier(build_fn=create_model, epochs=100, batch_size=60, verbose=0)\n",
        "neurons_num = [1, 2, 4, 8, 16, 32, 64, 128, 256]\n",
        "param_grid = dict(neurons_num=neurons_num)\n",
        "grid = GridSearchCV(estimator=model, param_grid=param_grid, n_jobs=-1, cv=3)\n",
        "grid_result = grid.fit(X_train, Y_train)"
      ],
      "execution_count": 0,
      "outputs": []
    },
    {
      "cell_type": "code",
      "metadata": {
        "id": "NekYoqCKvJ7K",
        "colab_type": "code",
        "colab": {
          "base_uri": "https://localhost:8080/",
          "height": 187
        },
        "outputId": "ee6fff20-d01c-4055-e548-2fe9db81522e"
      },
      "source": [
        "print(\"Best: %f using %s\" % (grid_result.best_score_, grid_result.best_params_))\n",
        "means = grid_result.cv_results_['mean_test_score']\n",
        "stds = grid_result.cv_results_['std_test_score']\n",
        "params = grid_result.cv_results_['params']\n",
        "for mean, stdev, param in zip(means, stds, params):\n",
        "    print(\"%f (%f) with: %r\" % (mean, stdev, param))"
      ],
      "execution_count": 31,
      "outputs": [
        {
          "output_type": "stream",
          "text": [
            "Best: 0.939647 using {'neurons_num': 128}\n",
            "0.660477 (0.065096) with: {'neurons_num': 1}\n",
            "0.871882 (0.005953) with: {'neurons_num': 2}\n",
            "0.866938 (0.056949) with: {'neurons_num': 4}\n",
            "0.934353 (0.001807) with: {'neurons_num': 8}\n",
            "0.936470 (0.001009) with: {'neurons_num': 16}\n",
            "0.933294 (0.003179) with: {'neurons_num': 32}\n",
            "0.936117 (0.004271) with: {'neurons_num': 64}\n",
            "0.939647 (0.001763) with: {'neurons_num': 128}\n",
            "0.937176 (0.002891) with: {'neurons_num': 256}\n"
          ],
          "name": "stdout"
        }
      ]
    },
    {
      "cell_type": "markdown",
      "metadata": {
        "id": "k591NRDdwnDI",
        "colab_type": "text"
      },
      "source": [
        "### Tuning Hidden Layers"
      ]
    },
    {
      "cell_type": "code",
      "metadata": {
        "id": "TqqACo6owtkM",
        "colab_type": "code",
        "colab": {}
      },
      "source": [
        "model = KerasClassifier(build_fn=create_model, epochs=100, batch_size=60, verbose=0)\n",
        "hidden_layers = [1,2,4,8,10,12,14,16,18,20]\n",
        "param_grid = dict(hidden_layers=hidden_layers)\n",
        "grid = GridSearchCV(estimator=model, param_grid=param_grid, n_jobs=-1, cv=3)\n",
        "grid_result = grid.fit(X_train, Y_train)"
      ],
      "execution_count": 0,
      "outputs": []
    },
    {
      "cell_type": "code",
      "metadata": {
        "id": "cErCqgw5xHmx",
        "colab_type": "code",
        "colab": {
          "base_uri": "https://localhost:8080/",
          "height": 204
        },
        "outputId": "746b3b80-15e8-4e2b-8fe3-0cd8deeb146c"
      },
      "source": [
        "print(\"Best: %f using %s\" % (grid_result.best_score_, grid_result.best_params_))\n",
        "means = grid_result.cv_results_['mean_test_score']\n",
        "stds = grid_result.cv_results_['std_test_score']\n",
        "params = grid_result.cv_results_['params']\n",
        "for mean, stdev, param in zip(means, stds, params):\n",
        "    print(\"%f (%f) with: %r\" % (mean, stdev, param))"
      ],
      "execution_count": 34,
      "outputs": [
        {
          "output_type": "stream",
          "text": [
            "Best: 0.937176 using {'hidden_layers': 2}\n",
            "nan (nan) with: {'hidden_layers': 1}\n",
            "0.937176 (0.006081) with: {'hidden_layers': 2}\n",
            "0.936588 (0.004331) with: {'hidden_layers': 4}\n",
            "0.934705 (0.002572) with: {'hidden_layers': 8}\n",
            "0.934824 (0.003667) with: {'hidden_layers': 10}\n",
            "0.937058 (0.002321) with: {'hidden_layers': 12}\n",
            "0.935529 (0.003247) with: {'hidden_layers': 14}\n",
            "0.935999 (0.003770) with: {'hidden_layers': 16}\n",
            "0.936470 (0.004858) with: {'hidden_layers': 18}\n",
            "0.934940 (0.005341) with: {'hidden_layers': 20}\n"
          ],
          "name": "stdout"
        }
      ]
    },
    {
      "cell_type": "markdown",
      "metadata": {
        "id": "lRPkdfhGchal",
        "colab_type": "text"
      },
      "source": [
        "## Predicting and Writing to CSV"
      ]
    },
    {
      "cell_type": "markdown",
      "metadata": {
        "id": "Cla9UxCAisn-",
        "colab_type": "text"
      },
      "source": [
        "### Using Best Model"
      ]
    },
    {
      "cell_type": "code",
      "metadata": {
        "id": "V4luUYUpxju3",
        "colab_type": "code",
        "colab": {}
      },
      "source": [
        "model=create_model(\"Adamax\",'relu','normal',128,2)"
      ],
      "execution_count": 0,
      "outputs": []
    },
    {
      "cell_type": "code",
      "metadata": {
        "id": "HODuAuGx2QVX",
        "colab_type": "code",
        "outputId": "82e5eda3-52c0-441c-abd2-435531f300f9",
        "colab": {
          "base_uri": "https://localhost:8080/",
          "height": 1000
        }
      },
      "source": [
        "from keras.callbacks import TensorBoard\n",
        "from time import time\n",
        "\n",
        "tensorboard=TensorBoard(log_dir=\"logs/{}\".format(time()))\n",
        "model.fit(X_train,Y_train,epochs=100,batch_size=60,verbose=2,callbacks=[tensorboard],validation_split=0.15)"
      ],
      "execution_count": 36,
      "outputs": [
        {
          "output_type": "stream",
          "text": [
            "Train on 7225 samples, validate on 1275 samples\n",
            "WARNING:tensorflow:From /usr/local/lib/python3.6/dist-packages/keras/callbacks.py:1122: The name tf.summary.merge_all is deprecated. Please use tf.compat.v1.summary.merge_all instead.\n",
            "\n"
          ],
          "name": "stdout"
        },
        {
          "output_type": "stream",
          "text": [
            "WARNING:tensorflow:From /usr/local/lib/python3.6/dist-packages/keras/callbacks.py:1122: The name tf.summary.merge_all is deprecated. Please use tf.compat.v1.summary.merge_all instead.\n",
            "\n"
          ],
          "name": "stderr"
        },
        {
          "output_type": "stream",
          "text": [
            "WARNING:tensorflow:From /usr/local/lib/python3.6/dist-packages/keras/callbacks.py:1125: The name tf.summary.FileWriter is deprecated. Please use tf.compat.v1.summary.FileWriter instead.\n",
            "\n"
          ],
          "name": "stdout"
        },
        {
          "output_type": "stream",
          "text": [
            "WARNING:tensorflow:From /usr/local/lib/python3.6/dist-packages/keras/callbacks.py:1125: The name tf.summary.FileWriter is deprecated. Please use tf.compat.v1.summary.FileWriter instead.\n",
            "\n"
          ],
          "name": "stderr"
        },
        {
          "output_type": "stream",
          "text": [
            "Epoch 1/100\n",
            " - 0s - loss: 1.2396 - acc: 0.4454 - val_loss: 1.0509 - val_acc: 0.5827\n",
            "WARNING:tensorflow:From /usr/local/lib/python3.6/dist-packages/keras/callbacks.py:1265: The name tf.Summary is deprecated. Please use tf.compat.v1.Summary instead.\n",
            "\n"
          ],
          "name": "stdout"
        },
        {
          "output_type": "stream",
          "text": [
            "WARNING:tensorflow:From /usr/local/lib/python3.6/dist-packages/keras/callbacks.py:1265: The name tf.Summary is deprecated. Please use tf.compat.v1.Summary instead.\n",
            "\n"
          ],
          "name": "stderr"
        },
        {
          "output_type": "stream",
          "text": [
            "Epoch 2/100\n",
            " - 0s - loss: 0.9494 - acc: 0.6061 - val_loss: 0.8599 - val_acc: 0.6361\n",
            "Epoch 3/100\n",
            " - 0s - loss: 0.7724 - acc: 0.6728 - val_loss: 0.7075 - val_acc: 0.7067\n",
            "Epoch 4/100\n",
            " - 0s - loss: 0.6430 - acc: 0.7412 - val_loss: 0.5980 - val_acc: 0.7686\n",
            "Epoch 5/100\n",
            " - 0s - loss: 0.5445 - acc: 0.7916 - val_loss: 0.5135 - val_acc: 0.8149\n",
            "Epoch 6/100\n",
            " - 0s - loss: 0.4696 - acc: 0.8328 - val_loss: 0.4478 - val_acc: 0.8565\n",
            "Epoch 7/100\n",
            " - 0s - loss: 0.4142 - acc: 0.8591 - val_loss: 0.4025 - val_acc: 0.8745\n",
            "Epoch 8/100\n",
            " - 0s - loss: 0.3734 - acc: 0.8821 - val_loss: 0.3672 - val_acc: 0.8910\n",
            "Epoch 9/100\n",
            " - 0s - loss: 0.3425 - acc: 0.8963 - val_loss: 0.3407 - val_acc: 0.8965\n",
            "Epoch 10/100\n",
            " - 0s - loss: 0.3188 - acc: 0.9077 - val_loss: 0.3194 - val_acc: 0.9035\n",
            "Epoch 11/100\n",
            " - 0s - loss: 0.3006 - acc: 0.9118 - val_loss: 0.3009 - val_acc: 0.9122\n",
            "Epoch 12/100\n",
            " - 0s - loss: 0.2863 - acc: 0.9189 - val_loss: 0.2881 - val_acc: 0.9059\n",
            "Epoch 13/100\n",
            " - 0s - loss: 0.2748 - acc: 0.9217 - val_loss: 0.2762 - val_acc: 0.9153\n",
            "Epoch 14/100\n",
            " - 0s - loss: 0.2655 - acc: 0.9228 - val_loss: 0.2696 - val_acc: 0.9184\n",
            "Epoch 15/100\n",
            " - 0s - loss: 0.2575 - acc: 0.9269 - val_loss: 0.2631 - val_acc: 0.9192\n",
            "Epoch 16/100\n",
            " - 0s - loss: 0.2517 - acc: 0.9279 - val_loss: 0.2561 - val_acc: 0.9239\n",
            "Epoch 17/100\n",
            " - 0s - loss: 0.2451 - acc: 0.9300 - val_loss: 0.2512 - val_acc: 0.9231\n",
            "Epoch 18/100\n",
            " - 0s - loss: 0.2408 - acc: 0.9298 - val_loss: 0.2517 - val_acc: 0.9231\n",
            "Epoch 19/100\n",
            " - 0s - loss: 0.2364 - acc: 0.9329 - val_loss: 0.2488 - val_acc: 0.9231\n",
            "Epoch 20/100\n",
            " - 0s - loss: 0.2329 - acc: 0.9320 - val_loss: 0.2420 - val_acc: 0.9271\n",
            "Epoch 21/100\n",
            " - 0s - loss: 0.2296 - acc: 0.9331 - val_loss: 0.2377 - val_acc: 0.9278\n",
            "Epoch 22/100\n",
            " - 0s - loss: 0.2268 - acc: 0.9355 - val_loss: 0.2362 - val_acc: 0.9310\n",
            "Epoch 23/100\n",
            " - 0s - loss: 0.2229 - acc: 0.9366 - val_loss: 0.2366 - val_acc: 0.9302\n",
            "Epoch 24/100\n",
            " - 0s - loss: 0.2204 - acc: 0.9358 - val_loss: 0.2329 - val_acc: 0.9286\n",
            "Epoch 25/100\n",
            " - 0s - loss: 0.2180 - acc: 0.9379 - val_loss: 0.2302 - val_acc: 0.9310\n",
            "Epoch 26/100\n",
            " - 0s - loss: 0.2154 - acc: 0.9374 - val_loss: 0.2295 - val_acc: 0.9310\n",
            "Epoch 27/100\n",
            " - 0s - loss: 0.2142 - acc: 0.9381 - val_loss: 0.2269 - val_acc: 0.9341\n",
            "Epoch 28/100\n",
            " - 0s - loss: 0.2108 - acc: 0.9394 - val_loss: 0.2244 - val_acc: 0.9357\n",
            "Epoch 29/100\n",
            " - 0s - loss: 0.2089 - acc: 0.9379 - val_loss: 0.2240 - val_acc: 0.9310\n",
            "Epoch 30/100\n",
            " - 0s - loss: 0.2077 - acc: 0.9384 - val_loss: 0.2234 - val_acc: 0.9302\n",
            "Epoch 31/100\n",
            " - 0s - loss: 0.2054 - acc: 0.9390 - val_loss: 0.2251 - val_acc: 0.9318\n",
            "Epoch 32/100\n",
            " - 0s - loss: 0.2048 - acc: 0.9408 - val_loss: 0.2240 - val_acc: 0.9341\n",
            "Epoch 33/100\n",
            " - 0s - loss: 0.2024 - acc: 0.9388 - val_loss: 0.2222 - val_acc: 0.9302\n",
            "Epoch 34/100\n",
            " - 0s - loss: 0.2009 - acc: 0.9398 - val_loss: 0.2215 - val_acc: 0.9357\n",
            "Epoch 35/100\n",
            " - 0s - loss: 0.1997 - acc: 0.9399 - val_loss: 0.2207 - val_acc: 0.9294\n",
            "Epoch 36/100\n",
            " - 0s - loss: 0.1985 - acc: 0.9397 - val_loss: 0.2231 - val_acc: 0.9263\n",
            "Epoch 37/100\n",
            " - 0s - loss: 0.1978 - acc: 0.9412 - val_loss: 0.2195 - val_acc: 0.9318\n",
            "Epoch 38/100\n",
            " - 0s - loss: 0.1959 - acc: 0.9419 - val_loss: 0.2170 - val_acc: 0.9325\n",
            "Epoch 39/100\n",
            " - 0s - loss: 0.1954 - acc: 0.9419 - val_loss: 0.2179 - val_acc: 0.9325\n",
            "Epoch 40/100\n",
            " - 0s - loss: 0.1945 - acc: 0.9397 - val_loss: 0.2204 - val_acc: 0.9278\n",
            "Epoch 41/100\n",
            " - 0s - loss: 0.1932 - acc: 0.9406 - val_loss: 0.2189 - val_acc: 0.9318\n",
            "Epoch 42/100\n",
            " - 0s - loss: 0.1926 - acc: 0.9424 - val_loss: 0.2173 - val_acc: 0.9278\n",
            "Epoch 43/100\n",
            " - 0s - loss: 0.1931 - acc: 0.9401 - val_loss: 0.2174 - val_acc: 0.9294\n",
            "Epoch 44/100\n",
            " - 0s - loss: 0.1910 - acc: 0.9434 - val_loss: 0.2206 - val_acc: 0.9325\n",
            "Epoch 45/100\n",
            " - 0s - loss: 0.1899 - acc: 0.9426 - val_loss: 0.2146 - val_acc: 0.9333\n",
            "Epoch 46/100\n",
            " - 0s - loss: 0.1894 - acc: 0.9430 - val_loss: 0.2170 - val_acc: 0.9325\n",
            "Epoch 47/100\n",
            " - 0s - loss: 0.1887 - acc: 0.9426 - val_loss: 0.2117 - val_acc: 0.9310\n",
            "Epoch 48/100\n",
            " - 0s - loss: 0.1876 - acc: 0.9423 - val_loss: 0.2177 - val_acc: 0.9310\n",
            "Epoch 49/100\n",
            " - 0s - loss: 0.1872 - acc: 0.9439 - val_loss: 0.2170 - val_acc: 0.9271\n",
            "Epoch 50/100\n",
            " - 0s - loss: 0.1862 - acc: 0.9438 - val_loss: 0.2183 - val_acc: 0.9263\n",
            "Epoch 51/100\n",
            " - 0s - loss: 0.1862 - acc: 0.9433 - val_loss: 0.2176 - val_acc: 0.9310\n",
            "Epoch 52/100\n",
            " - 0s - loss: 0.1845 - acc: 0.9441 - val_loss: 0.2140 - val_acc: 0.9310\n",
            "Epoch 53/100\n",
            " - 0s - loss: 0.1852 - acc: 0.9433 - val_loss: 0.2145 - val_acc: 0.9318\n",
            "Epoch 54/100\n",
            " - 0s - loss: 0.1832 - acc: 0.9441 - val_loss: 0.2138 - val_acc: 0.9325\n",
            "Epoch 55/100\n",
            " - 0s - loss: 0.1842 - acc: 0.9417 - val_loss: 0.2149 - val_acc: 0.9318\n",
            "Epoch 56/100\n",
            " - 0s - loss: 0.1824 - acc: 0.9434 - val_loss: 0.2144 - val_acc: 0.9325\n",
            "Epoch 57/100\n",
            " - 0s - loss: 0.1816 - acc: 0.9445 - val_loss: 0.2183 - val_acc: 0.9302\n",
            "Epoch 58/100\n",
            " - 0s - loss: 0.1807 - acc: 0.9456 - val_loss: 0.2149 - val_acc: 0.9325\n",
            "Epoch 59/100\n",
            " - 0s - loss: 0.1814 - acc: 0.9441 - val_loss: 0.2112 - val_acc: 0.9318\n",
            "Epoch 60/100\n",
            " - 0s - loss: 0.1804 - acc: 0.9453 - val_loss: 0.2142 - val_acc: 0.9310\n",
            "Epoch 61/100\n",
            " - 0s - loss: 0.1796 - acc: 0.9448 - val_loss: 0.2141 - val_acc: 0.9294\n",
            "Epoch 62/100\n",
            " - 0s - loss: 0.1788 - acc: 0.9457 - val_loss: 0.2139 - val_acc: 0.9263\n",
            "Epoch 63/100\n",
            " - 0s - loss: 0.1786 - acc: 0.9446 - val_loss: 0.2136 - val_acc: 0.9325\n",
            "Epoch 64/100\n",
            " - 0s - loss: 0.1790 - acc: 0.9439 - val_loss: 0.2124 - val_acc: 0.9310\n",
            "Epoch 65/100\n",
            " - 0s - loss: 0.1780 - acc: 0.9451 - val_loss: 0.2134 - val_acc: 0.9294\n",
            "Epoch 66/100\n",
            " - 0s - loss: 0.1768 - acc: 0.9448 - val_loss: 0.2114 - val_acc: 0.9333\n",
            "Epoch 67/100\n",
            " - 0s - loss: 0.1764 - acc: 0.9457 - val_loss: 0.2151 - val_acc: 0.9325\n",
            "Epoch 68/100\n",
            " - 0s - loss: 0.1767 - acc: 0.9449 - val_loss: 0.2137 - val_acc: 0.9318\n",
            "Epoch 69/100\n",
            " - 0s - loss: 0.1756 - acc: 0.9460 - val_loss: 0.2132 - val_acc: 0.9302\n",
            "Epoch 70/100\n",
            " - 0s - loss: 0.1750 - acc: 0.9451 - val_loss: 0.2178 - val_acc: 0.9318\n",
            "Epoch 71/100\n",
            " - 0s - loss: 0.1754 - acc: 0.9459 - val_loss: 0.2127 - val_acc: 0.9302\n",
            "Epoch 72/100\n",
            " - 0s - loss: 0.1743 - acc: 0.9449 - val_loss: 0.2130 - val_acc: 0.9318\n",
            "Epoch 73/100\n",
            " - 0s - loss: 0.1739 - acc: 0.9464 - val_loss: 0.2125 - val_acc: 0.9302\n",
            "Epoch 74/100\n",
            " - 0s - loss: 0.1735 - acc: 0.9459 - val_loss: 0.2152 - val_acc: 0.9310\n",
            "Epoch 75/100\n",
            " - 0s - loss: 0.1726 - acc: 0.9462 - val_loss: 0.2144 - val_acc: 0.9318\n",
            "Epoch 76/100\n",
            " - 0s - loss: 0.1734 - acc: 0.9470 - val_loss: 0.2133 - val_acc: 0.9365\n",
            "Epoch 77/100\n",
            " - 0s - loss: 0.1729 - acc: 0.9470 - val_loss: 0.2148 - val_acc: 0.9357\n",
            "Epoch 78/100\n",
            " - 0s - loss: 0.1718 - acc: 0.9473 - val_loss: 0.2107 - val_acc: 0.9310\n",
            "Epoch 79/100\n",
            " - 0s - loss: 0.1714 - acc: 0.9460 - val_loss: 0.2126 - val_acc: 0.9341\n",
            "Epoch 80/100\n",
            " - 0s - loss: 0.1719 - acc: 0.9456 - val_loss: 0.2141 - val_acc: 0.9325\n",
            "Epoch 81/100\n",
            " - 0s - loss: 0.1708 - acc: 0.9471 - val_loss: 0.2100 - val_acc: 0.9349\n",
            "Epoch 82/100\n",
            " - 0s - loss: 0.1710 - acc: 0.9477 - val_loss: 0.2129 - val_acc: 0.9325\n",
            "Epoch 83/100\n",
            " - 0s - loss: 0.1702 - acc: 0.9471 - val_loss: 0.2112 - val_acc: 0.9365\n",
            "Epoch 84/100\n",
            " - 0s - loss: 0.1696 - acc: 0.9480 - val_loss: 0.2101 - val_acc: 0.9310\n",
            "Epoch 85/100\n",
            " - 0s - loss: 0.1701 - acc: 0.9478 - val_loss: 0.2135 - val_acc: 0.9357\n",
            "Epoch 86/100\n",
            " - 0s - loss: 0.1686 - acc: 0.9467 - val_loss: 0.2147 - val_acc: 0.9325\n",
            "Epoch 87/100\n",
            " - 0s - loss: 0.1698 - acc: 0.9459 - val_loss: 0.2129 - val_acc: 0.9325\n",
            "Epoch 88/100\n",
            " - 0s - loss: 0.1685 - acc: 0.9473 - val_loss: 0.2118 - val_acc: 0.9325\n",
            "Epoch 89/100\n",
            " - 0s - loss: 0.1684 - acc: 0.9474 - val_loss: 0.2093 - val_acc: 0.9349\n",
            "Epoch 90/100\n",
            " - 0s - loss: 0.1680 - acc: 0.9471 - val_loss: 0.2106 - val_acc: 0.9310\n",
            "Epoch 91/100\n",
            " - 0s - loss: 0.1669 - acc: 0.9480 - val_loss: 0.2122 - val_acc: 0.9357\n",
            "Epoch 92/100\n",
            " - 0s - loss: 0.1664 - acc: 0.9482 - val_loss: 0.2141 - val_acc: 0.9349\n",
            "Epoch 93/100\n",
            " - 0s - loss: 0.1676 - acc: 0.9471 - val_loss: 0.2102 - val_acc: 0.9294\n",
            "Epoch 94/100\n",
            " - 0s - loss: 0.1675 - acc: 0.9473 - val_loss: 0.2103 - val_acc: 0.9341\n",
            "Epoch 95/100\n",
            " - 0s - loss: 0.1673 - acc: 0.9474 - val_loss: 0.2127 - val_acc: 0.9349\n",
            "Epoch 96/100\n",
            " - 0s - loss: 0.1656 - acc: 0.9477 - val_loss: 0.2120 - val_acc: 0.9278\n",
            "Epoch 97/100\n",
            " - 0s - loss: 0.1656 - acc: 0.9469 - val_loss: 0.2064 - val_acc: 0.9349\n",
            "Epoch 98/100\n",
            " - 0s - loss: 0.1655 - acc: 0.9473 - val_loss: 0.2134 - val_acc: 0.9341\n",
            "Epoch 99/100\n",
            " - 0s - loss: 0.1656 - acc: 0.9492 - val_loss: 0.2119 - val_acc: 0.9341\n",
            "Epoch 100/100\n",
            " - 0s - loss: 0.1650 - acc: 0.9498 - val_loss: 0.2151 - val_acc: 0.9310\n"
          ],
          "name": "stdout"
        },
        {
          "output_type": "execute_result",
          "data": {
            "text/plain": [
              "<keras.callbacks.History at 0x7fdcf4143a90>"
            ]
          },
          "metadata": {
            "tags": []
          },
          "execution_count": 36
        }
      ]
    },
    {
      "cell_type": "code",
      "metadata": {
        "id": "OxnFZKtQ6InH",
        "colab_type": "code",
        "outputId": "dd60d730-274d-403a-efac-e221cf7e2911",
        "colab": {
          "base_uri": "https://localhost:8080/",
          "height": 51
        }
      },
      "source": [
        "scores=model.evaluate(X_test,Y_test,verbose=2)\n",
        "print(\"\\nTest %s: %.2f%%\" % (model.metrics_names[1], scores[1]*100))"
      ],
      "execution_count": 37,
      "outputs": [
        {
          "output_type": "stream",
          "text": [
            "\n",
            "Test acc: 93.93%\n"
          ],
          "name": "stdout"
        }
      ]
    },
    {
      "cell_type": "markdown",
      "metadata": {
        "id": "vyGBHZOtg6md",
        "colab_type": "text"
      },
      "source": [
        "### Writing to CSV"
      ]
    },
    {
      "cell_type": "code",
      "metadata": {
        "id": "hZjRa7_icmM-",
        "colab_type": "code",
        "colab": {}
      },
      "source": [
        "X_validate=pd.read_csv('test.csv')\n",
        "acc_id=X_validate.iloc[:,-1]\n",
        "X_validate=X_validate.iloc[:,:-1]"
      ],
      "execution_count": 0,
      "outputs": []
    },
    {
      "cell_type": "code",
      "metadata": {
        "id": "qpJy5rSycrWt",
        "colab_type": "code",
        "colab": {}
      },
      "source": [
        "X_validate=pd.get_dummies(X_validate,columns=['Accident_Type_Code'])"
      ],
      "execution_count": 0,
      "outputs": []
    },
    {
      "cell_type": "code",
      "metadata": {
        "id": "rrTbldZn6VlV",
        "colab_type": "code",
        "colab": {}
      },
      "source": [
        "X_validate=sc.fit_transform(X_validate)"
      ],
      "execution_count": 0,
      "outputs": []
    },
    {
      "cell_type": "code",
      "metadata": {
        "id": "oGyrif1Ec5Tz",
        "colab_type": "code",
        "outputId": "b92c76b2-d9de-4b38-8c03-77a537c55215",
        "colab": {
          "base_uri": "https://localhost:8080/",
          "height": 34
        }
      },
      "source": [
        "Y_validate=model.predict_classes(X_validate)\n",
        "Y_validate"
      ],
      "execution_count": 41,
      "outputs": [
        {
          "output_type": "execute_result",
          "data": {
            "text/plain": [
              "array([0, 2, 3, ..., 3, 3, 0])"
            ]
          },
          "metadata": {
            "tags": []
          },
          "execution_count": 41
        }
      ]
    },
    {
      "cell_type": "code",
      "metadata": {
        "id": "rpVno0uo6j4x",
        "colab_type": "code",
        "outputId": "08339a7a-5ff7-4635-ac36-c88a4f55f8f3",
        "colab": {
          "base_uri": "https://localhost:8080/",
          "height": 102
        }
      },
      "source": [
        "Y_validate=le.inverse_transform(Y_validate)\n",
        "Y_validate"
      ],
      "execution_count": 42,
      "outputs": [
        {
          "output_type": "execute_result",
          "data": {
            "text/plain": [
              "array(['Highly_Fatal_And_Damaging', 'Significant_Damage_And_Fatalities',\n",
              "       'Significant_Damage_And_Serious_Injuries', ...,\n",
              "       'Significant_Damage_And_Serious_Injuries',\n",
              "       'Significant_Damage_And_Serious_Injuries',\n",
              "       'Highly_Fatal_And_Damaging'], dtype=object)"
            ]
          },
          "metadata": {
            "tags": []
          },
          "execution_count": 42
        }
      ]
    },
    {
      "cell_type": "code",
      "metadata": {
        "id": "YxQorYIAdmjt",
        "colab_type": "code",
        "colab": {}
      },
      "source": [
        "Y_final=pd.concat([acc_id,pd.Series(Y_validate)],axis=1)"
      ],
      "execution_count": 0,
      "outputs": []
    },
    {
      "cell_type": "code",
      "metadata": {
        "id": "4wxMXif9d4cF",
        "colab_type": "code",
        "outputId": "c53683aa-c6d4-4dbd-f9fd-c868f4ff830d",
        "colab": {
          "base_uri": "https://localhost:8080/",
          "height": 419
        }
      },
      "source": [
        "Y_final.reset_index()\n",
        "Y_final"
      ],
      "execution_count": 44,
      "outputs": [
        {
          "output_type": "execute_result",
          "data": {
            "text/html": [
              "<div>\n",
              "<style scoped>\n",
              "    .dataframe tbody tr th:only-of-type {\n",
              "        vertical-align: middle;\n",
              "    }\n",
              "\n",
              "    .dataframe tbody tr th {\n",
              "        vertical-align: top;\n",
              "    }\n",
              "\n",
              "    .dataframe thead th {\n",
              "        text-align: right;\n",
              "    }\n",
              "</style>\n",
              "<table border=\"1\" class=\"dataframe\">\n",
              "  <thead>\n",
              "    <tr style=\"text-align: right;\">\n",
              "      <th></th>\n",
              "      <th>Accident_ID</th>\n",
              "      <th>0</th>\n",
              "    </tr>\n",
              "  </thead>\n",
              "  <tbody>\n",
              "    <tr>\n",
              "      <th>0</th>\n",
              "      <td>1</td>\n",
              "      <td>Highly_Fatal_And_Damaging</td>\n",
              "    </tr>\n",
              "    <tr>\n",
              "      <th>1</th>\n",
              "      <td>10</td>\n",
              "      <td>Significant_Damage_And_Fatalities</td>\n",
              "    </tr>\n",
              "    <tr>\n",
              "      <th>2</th>\n",
              "      <td>14</td>\n",
              "      <td>Significant_Damage_And_Serious_Injuries</td>\n",
              "    </tr>\n",
              "    <tr>\n",
              "      <th>3</th>\n",
              "      <td>17</td>\n",
              "      <td>Highly_Fatal_And_Damaging</td>\n",
              "    </tr>\n",
              "    <tr>\n",
              "      <th>4</th>\n",
              "      <td>21</td>\n",
              "      <td>Significant_Damage_And_Fatalities</td>\n",
              "    </tr>\n",
              "    <tr>\n",
              "      <th>...</th>\n",
              "      <td>...</td>\n",
              "      <td>...</td>\n",
              "    </tr>\n",
              "    <tr>\n",
              "      <th>2495</th>\n",
              "      <td>12484</td>\n",
              "      <td>Highly_Fatal_And_Damaging</td>\n",
              "    </tr>\n",
              "    <tr>\n",
              "      <th>2496</th>\n",
              "      <td>12487</td>\n",
              "      <td>Significant_Damage_And_Serious_Injuries</td>\n",
              "    </tr>\n",
              "    <tr>\n",
              "      <th>2497</th>\n",
              "      <td>12488</td>\n",
              "      <td>Significant_Damage_And_Serious_Injuries</td>\n",
              "    </tr>\n",
              "    <tr>\n",
              "      <th>2498</th>\n",
              "      <td>12491</td>\n",
              "      <td>Significant_Damage_And_Serious_Injuries</td>\n",
              "    </tr>\n",
              "    <tr>\n",
              "      <th>2499</th>\n",
              "      <td>12493</td>\n",
              "      <td>Highly_Fatal_And_Damaging</td>\n",
              "    </tr>\n",
              "  </tbody>\n",
              "</table>\n",
              "<p>2500 rows × 2 columns</p>\n",
              "</div>"
            ],
            "text/plain": [
              "      Accident_ID                                        0\n",
              "0               1                Highly_Fatal_And_Damaging\n",
              "1              10        Significant_Damage_And_Fatalities\n",
              "2              14  Significant_Damage_And_Serious_Injuries\n",
              "3              17                Highly_Fatal_And_Damaging\n",
              "4              21        Significant_Damage_And_Fatalities\n",
              "...           ...                                      ...\n",
              "2495        12484                Highly_Fatal_And_Damaging\n",
              "2496        12487  Significant_Damage_And_Serious_Injuries\n",
              "2497        12488  Significant_Damage_And_Serious_Injuries\n",
              "2498        12491  Significant_Damage_And_Serious_Injuries\n",
              "2499        12493                Highly_Fatal_And_Damaging\n",
              "\n",
              "[2500 rows x 2 columns]"
            ]
          },
          "metadata": {
            "tags": []
          },
          "execution_count": 44
        }
      ]
    },
    {
      "cell_type": "code",
      "metadata": {
        "id": "wkGPjlHxEM_u",
        "colab_type": "code",
        "colab": {}
      },
      "source": [
        "Y_final.to_csv('final.csv')"
      ],
      "execution_count": 0,
      "outputs": []
    },
    {
      "cell_type": "code",
      "metadata": {
        "id": "IWKwuCwuFYSa",
        "colab_type": "code",
        "colab": {
          "base_uri": "https://localhost:8080/",
          "height": 173
        },
        "outputId": "d9da35da-6037-46f0-e745-2e8677541e9f"
      },
      "source": [
        "K.clear_session()"
      ],
      "execution_count": 17,
      "outputs": [
        {
          "output_type": "stream",
          "text": [
            "WARNING:tensorflow:From /usr/local/lib/python3.6/dist-packages/keras/backend/tensorflow_backend.py:107: The name tf.reset_default_graph is deprecated. Please use tf.compat.v1.reset_default_graph instead.\n",
            "\n"
          ],
          "name": "stdout"
        },
        {
          "output_type": "stream",
          "text": [
            "WARNING:tensorflow:From /usr/local/lib/python3.6/dist-packages/keras/backend/tensorflow_backend.py:107: The name tf.reset_default_graph is deprecated. Please use tf.compat.v1.reset_default_graph instead.\n",
            "\n"
          ],
          "name": "stderr"
        },
        {
          "output_type": "stream",
          "text": [
            "WARNING:tensorflow:From /usr/local/lib/python3.6/dist-packages/keras/backend/tensorflow_backend.py:111: The name tf.placeholder_with_default is deprecated. Please use tf.compat.v1.placeholder_with_default instead.\n",
            "\n"
          ],
          "name": "stdout"
        },
        {
          "output_type": "stream",
          "text": [
            "WARNING:tensorflow:From /usr/local/lib/python3.6/dist-packages/keras/backend/tensorflow_backend.py:111: The name tf.placeholder_with_default is deprecated. Please use tf.compat.v1.placeholder_with_default instead.\n",
            "\n"
          ],
          "name": "stderr"
        }
      ]
    }
  ]
}